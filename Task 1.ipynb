{
 "cells": [
  {
   "cell_type": "code",
   "execution_count": 1,
   "metadata": {},
   "outputs": [
    {
     "name": "stderr",
     "output_type": "stream",
     "text": [
      "C:\\ProgramData\\Anaconda3\\lib\\site-packages\\ipykernel_launcher.py:71: FutureWarning: Method .as_matrix will be removed in a future version. Use .values instead.\n",
      "C:\\ProgramData\\Anaconda3\\lib\\site-packages\\ipykernel_launcher.py:72: FutureWarning: Method .as_matrix will be removed in a future version. Use .values instead.\n"
     ]
    },
    {
     "data": {
      "text/plain": [
       "<Figure size 640x480 with 1 Axes>"
      ]
     },
     "metadata": {},
     "output_type": "display_data"
    },
    {
     "data": {
      "text/plain": [
       "<Figure size 640x480 with 1 Axes>"
      ]
     },
     "metadata": {},
     "output_type": "display_data"
    },
    {
     "data": {
      "text/plain": [
       "<Figure size 640x480 with 1 Axes>"
      ]
     },
     "metadata": {},
     "output_type": "display_data"
    },
    {
     "data": {
      "text/plain": [
       "<Figure size 640x480 with 1 Axes>"
      ]
     },
     "metadata": {},
     "output_type": "display_data"
    },
    {
     "data": {
      "text/plain": [
       "<Figure size 640x480 with 1 Axes>"
      ]
     },
     "metadata": {},
     "output_type": "display_data"
    },
    {
     "data": {
      "text/plain": [
       "<Figure size 640x480 with 1 Axes>"
      ]
     },
     "metadata": {},
     "output_type": "display_data"
    },
    {
     "data": {
      "text/plain": [
       "<Figure size 640x480 with 1 Axes>"
      ]
     },
     "metadata": {},
     "output_type": "display_data"
    },
    {
     "data": {
      "text/plain": [
       "<Figure size 640x480 with 1 Axes>"
      ]
     },
     "metadata": {},
     "output_type": "display_data"
    },
    {
     "data": {
      "text/plain": [
       "<Figure size 640x480 with 0 Axes>"
      ]
     },
     "execution_count": 1,
     "metadata": {},
     "output_type": "execute_result"
    }
   ],
   "source": [
    "#import libs\n",
    "import numpy.linalg as linalg\n",
    "import matplotlib.pyplot as plt\n",
    "import pandas as pd\n",
    "import numpy as np\n",
    "\n",
    "#get polynomial function\n",
    "def getPolynomialDataMatrix(x, degree):\n",
    "    tmp = np.ones(x.shape)\n",
    "    for i in range(1,degree + 1):\n",
    "        tmp = np.column_stack((tmp, x ** i))\n",
    "    return tmp\n",
    "\n",
    "#polynomial regression function\n",
    "def pol_regression(features_train, y_train, degree):\n",
    "    #if degree is 0 return mean of y\n",
    "    if degree == 0:\n",
    "        return [np.mean(y_train)]\n",
    "    else:\n",
    "        #get the data matrix\n",
    "        tmp = getPolynomialDataMatrix(features_train, degree)\n",
    "        #get product of self and transposed self \n",
    "        tmp2 = tmp.transpose().dot(tmp)\n",
    "        #solve the equation using the modified training data and return parameters\n",
    "        parameters = np.linalg.solve(tmp2, tmp.transpose().dot(y_train))\n",
    "        return parameters\n",
    "\n",
    "#evaluating polynomial regression function\n",
    "def eval_pol_regression(parameters, x, y, degree):\n",
    "    #if degree is zero dont .dot, multiply instead when getting data matrix\n",
    "    if degree == 0:\n",
    "        tmp = getPolynomialDataMatrix(x, degree)*(parameters)\n",
    "    else:\n",
    "        tmp = getPolynomialDataMatrix(x, degree).dot(parameters)\n",
    "    #calculate root mean squared errors and return\n",
    "    rmse = np.sqrt(np.mean(np.square(np.subtract(tmp,y))))\n",
    "    return rmse\n",
    "\n",
    "#used to plot the points taking in the weights, label and degrees\n",
    "def plot(w, text, degree):\n",
    "    #plot test and training points\n",
    "    plt.plot(testX,testY, 'co')\n",
    "    plt.plot(trainX, trainY, 'mo')\n",
    "    \n",
    "    #check if 0 and draw line\n",
    "    if degree != 0:\n",
    "        plt.plot(ls, getPolynomialDataMatrix(ls, degree).dot(w), 'm')\n",
    "    else:\n",
    "        plt.plot(ls, getPolynomialDataMatrix(ls, degree)*w, 'm')\n",
    "    \n",
    "    #add legend and plot\n",
    "    plt.legend(('Ground truth', 'Training data', text), loc = 'lower right')\n",
    "    plt.show()\n",
    "    plt.figure()\n",
    "    \n",
    "#evaluate the error of the test data and plot    \n",
    "def evaluate(x, y, col):\n",
    "    data0 = eval_pol_regression(w0, x, y, 0) \n",
    "    data1 = eval_pol_regression(w1, x, y, 1)\n",
    "    data2 = eval_pol_regression(w2, x, y, 2)\n",
    "    data3 = eval_pol_regression(w3, x, y, 3)\n",
    "    data5 = eval_pol_regression(w5, x, y, 5)\n",
    "    data10 = eval_pol_regression(w10, x, y, 10)\n",
    "    plt.plot([0,1,2,3,5,10],[data0,data1,data2,data3,data5,data10], col)\n",
    "    plt.legend(('Test data', 'Training data'), loc = 'upper right')\n",
    "\n",
    "#import dataset\n",
    "csv = pd.read_csv('dataset_pol_regression.csv')\n",
    "\n",
    "#split data into x and y matrix\n",
    "csvX = csv['x'].as_matrix()\n",
    "csvY = csv['y'].as_matrix()\n",
    "\n",
    "#split data into training and test 70:30\n",
    "trainX = csvX[0:14]\n",
    "trainY = csvY[0:14]\n",
    "testX = csvX[14:20]\n",
    "testY = csvY[14:20]\n",
    "    \n",
    "#set line space to -5 to 5\n",
    "ls = np.linspace(-5,5)\n",
    "\n",
    "#perform the regression\n",
    "w0 = pol_regression(trainX,trainY,0)\n",
    "w1 = pol_regression(trainX,trainY,1)\n",
    "w2 = pol_regression(trainX,trainY,2)\n",
    "w3 = pol_regression(trainX,trainY,3)\n",
    "w5 = pol_regression(trainX,trainY,5)\n",
    "w10 = pol_regression(trainX,trainY,10)\n",
    "\n",
    "#plot the regression charts\n",
    "plot(w0, '$x^{0}$', 0)\n",
    "plot(w1, '$x^{1}$', 1)\n",
    "plot(w2, '$x^{2}$', 2)\n",
    "plot(w3, '$x^{3}$', 3)\n",
    "plot(w5, '$x^{5}$', 5)\n",
    "plot(w10, '$x^{10}$', 10)\n",
    "\n",
    "#limit y axis to 250 and redraw degree 10\n",
    "axes = plt.gca()\n",
    "axes.set_ylim([-250,250])\n",
    "\n",
    "#replot degree 10 regression on limited axis\n",
    "plot(w10, '$x^{10}$', 10)\n",
    "\n",
    "#evaluate the test and train models\n",
    "evaluate(testX, testY, 'c')\n",
    "evaluate(trainX, trainY, 'm')\n",
    "\n",
    "#plot the evaluation\n",
    "plt.show()\n",
    "plt.figure()"
   ]
  },
  {
   "cell_type": "code",
   "execution_count": null,
   "metadata": {},
   "outputs": [],
   "source": []
  }
 ],
 "metadata": {
  "kernelspec": {
   "display_name": "Python 3",
   "language": "python",
   "name": "python3"
  },
  "language_info": {
   "codemirror_mode": {
    "name": "ipython",
    "version": 3
   },
   "file_extension": ".py",
   "mimetype": "text/x-python",
   "name": "python",
   "nbconvert_exporter": "python",
   "pygments_lexer": "ipython3",
   "version": "3.7.4"
  }
 },
 "nbformat": 4,
 "nbformat_minor": 4
}
